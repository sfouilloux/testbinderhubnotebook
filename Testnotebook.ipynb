{
 "cells": [
  {
   "cell_type": "code",
   "execution_count": 1,
   "metadata": {},
   "outputs": [],
   "source": [
    "import pandas as pd\n",
    "import numpy as np\n",
    "import matplotlib.pyplot as plt\n",
    "\n",
    "%matplotlib inline"
   ]
  },
  {
   "cell_type": "code",
   "execution_count": 2,
   "metadata": {},
   "outputs": [
    {
     "data": {
      "image/png": "[encoded data removed]",
      "text/plain": [
       "<Figure size 432x288 with 1 Axes>"
      ]
     },
     "metadata": {
      "needs_background": "light"
     },
     "output_type": "display_data"
    }
   ],
   "source": [
    "plt.hist(np.random.random(10000), bins=1000);"
   ]
  },
  {
   "cell_type": "code",
   "execution_count": 3,
   "metadata": {},
   "outputs": [
    {
     "data": {
      "text/plain": [
       "(array([ 8., 12.,  6., 12., 11., 12., 11., 12., 12.,  6.,  9.,  8.,  5.,\n",
       "        13., 11.,  6.,  5.,  5., 16.,  6., 12., 13., 10.,  9., 10., 15.,\n",
       "        10., 11., 15.,  8., 11., 12., 18., 11., 12., 12., 12., 10.,  8.,\n",
       "        12., 16., 12.,  7.,  9., 12.,  8., 12.,  8.,  7., 10., 10., 16.,\n",
       "         9.,  9., 13., 11.,  4., 12.,  9., 12., 14., 10.,  5.,  6., 12.,\n",
       "        15.,  7., 10.,  9., 13.,  9.,  5., 15., 10.,  7., 14.,  9.,  6.,\n",
       "        13., 11., 16., 12., 15., 16., 10., 13., 13., 12., 12.,  9.,  8.,\n",
       "        18.,  8.,  9., 13.,  4., 10.,  7.,  8., 13., 15., 10.,  9., 10.,\n",
       "         9., 14., 13., 11.,  8., 12.,  7., 17.,  8., 15.,  8., 13., 11.,\n",
       "        10., 13., 13.,  5., 11., 10.,  8.,  8.,  8., 10.,  7., 16.,  4.,\n",
       "        11., 13.,  9.,  8.,  9., 11.,  8., 10., 14.,  7., 11., 10., 11.,\n",
       "         9., 10., 10.,  5., 13.,  7.,  9., 15., 10., 12., 10., 11.,  9.,\n",
       "         5.,  7.,  3., 13., 10., 14.,  6., 10., 13.,  6., 10., 11., 22.,\n",
       "        15.,  8.,  9., 14.,  7.,  9.,  8.,  8., 10., 14.,  9., 14.,  7.,\n",
       "         9., 10., 10., 10.,  9.,  6.,  6., 15.,  8., 14., 18., 13.,  8.,\n",
       "         5.,  2., 12., 16.,  6., 10., 11., 16., 11., 10., 18., 12., 14.,\n",
       "         6.,  9., 10., 15.,  8., 14., 12.,  7., 15., 13., 14.,  6., 10.,\n",
       "         7., 10., 14., 11.,  8., 12., 11., 11.,  9.,  9., 12.,  6., 11.,\n",
       "        10., 11., 10., 10.,  7.,  4.,  8.,  5., 11., 11., 11., 10., 14.,\n",
       "        13.,  8., 18., 10.,  5., 12.,  5., 12.,  9., 13.,  7.,  9., 10.,\n",
       "        12.,  8.,  7., 11.,  7., 12.,  8., 16.,  4., 14., 11., 13.,  8.,\n",
       "        10.,  9.,  8., 11.,  7.,  8.,  7., 12., 10., 16., 10.,  9., 10.,\n",
       "        11.,  9., 12.,  9., 14., 11., 10.,  6.,  7.,  9., 12., 11., 11.,\n",
       "        10.,  8., 13., 14., 15., 11.,  8., 15.,  7.,  4.,  7.,  8.,  8.,\n",
       "        11., 13., 13., 13.,  4., 10.,  9.,  9.,  9., 10.,  6., 11., 11.,\n",
       "        12., 12.,  7., 11., 10.,  9.,  9.,  7.,  8.,  5., 10.,  6., 10.,\n",
       "         8., 14.,  9., 12.,  6., 10., 12.,  6.,  6.,  7.,  7., 12.,  9.,\n",
       "        10.,  7., 11., 13., 10., 12.,  8., 13., 10.,  8.,  9., 10., 11.,\n",
       "        10.,  8., 13., 10.,  8.,  8., 13., 10., 11., 12.,  8.,  9., 13.,\n",
       "         7., 10., 12., 10., 10., 11.,  4.,  5., 11.,  7.,  9.,  2.,  8.,\n",
       "        12., 13.,  9.,  9., 12.,  7.,  5., 10.,  4.,  6., 11., 11.,  5.,\n",
       "         7.,  8., 11.,  8.,  6.,  9.,  8., 11.,  4.,  9., 13., 11.,  7.,\n",
       "        12.,  6.,  6.,  6., 17., 10.,  8.,  6., 10., 11.,  9.,  7., 10.,\n",
       "         9., 14.,  8.,  8., 10.,  8.,  9., 13., 13., 11., 10., 11.,  4.,\n",
       "         8., 16., 14., 10., 11.,  8., 10., 10., 14., 11.,  4., 13., 10.,\n",
       "        16., 11.,  5., 10., 10.,  9., 15.,  9.,  5.,  8., 12.,  8.,  7.,\n",
       "        13., 10., 17., 14.,  8., 11., 14., 11., 16., 15.,  9., 12.,  9.,\n",
       "        12., 14.,  9.,  5.,  4.,  8., 12., 16., 15.,  9., 11.,  2., 12.,\n",
       "        10.,  5.,  8., 10.,  8.,  2., 14.,  7., 14., 11.,  9., 12., 15.,\n",
       "        10., 13., 14.,  4.,  7., 14.,  7.,  7.,  9., 13.,  6., 14., 16.,\n",
       "         8., 11., 13., 10., 10., 10., 10., 13., 10., 10.,  7.,  9., 11.,\n",
       "        17., 13., 13., 11.,  7., 13.,  8.,  5., 12., 17.,  7., 11., 14.,\n",
       "        11., 10.,  6.,  6., 11., 12.,  7., 18.,  7., 11.,  7.,  7., 13.,\n",
       "         6., 10.,  8., 11., 12., 16., 13.,  9., 11.,  9.,  6.,  6.,  9.,\n",
       "        11., 14.,  7.,  6.,  8., 14.,  7., 14.,  8., 10.,  9., 11.,  8.,\n",
       "         8., 12., 16.,  6.,  6.,  5., 12.,  6.,  5., 13., 13., 11.,  5.,\n",
       "         9.,  9.,  7., 14., 12., 10., 11., 12.,  8., 10., 13.,  7., 12.,\n",
       "        11., 12., 12.,  9., 11.,  8.,  9., 11.,  7., 12., 11.,  9.,  8.,\n",
       "         8., 11.,  4.,  8., 11.,  4.,  8., 11., 12.,  6., 11., 10.,  6.,\n",
       "        10., 10., 15.,  9.,  7.,  7., 15., 10., 15., 10.,  8.,  7., 10.,\n",
       "        10., 12., 17.,  7.,  6., 11., 12., 17., 10., 13., 12.,  9., 14.,\n",
       "        10., 11., 10., 12., 12., 10., 13.,  8.,  8.,  7.,  8.,  4.,  6.,\n",
       "        13., 10.,  8., 13., 15., 11., 16.,  4., 11., 10., 12., 11., 11.,\n",
       "         7., 14., 10.,  8., 14., 16.,  8., 15.,  6.,  5.,  6., 14., 12.,\n",
       "        10., 12.,  9., 13., 12., 10., 12., 10., 10., 10., 14., 13., 12.,\n",
       "         5.,  6.,  7., 17., 11., 10., 10.,  8.,  5., 12.,  5., 11.,  8.,\n",
       "         8.,  9.,  9.,  8.,  4., 14., 10.,  6.,  8., 12.,  8., 11., 12.,\n",
       "        12.,  8., 12., 12.,  9., 11., 14.,  6., 11.,  5., 13.,  7., 15.,\n",
       "         7.,  9., 11., 10., 12., 10.,  8., 11., 18.,  7., 10.,  8., 12.,\n",
       "        14.,  7., 18.,  8., 12.,  8.,  9.,  6., 11.,  8., 12.,  8., 14.,\n",
       "        14., 11.,  4.,  7.,  6., 10., 11., 10.,  8.,  9., 13., 13., 10.,\n",
       "        12., 12., 13., 13., 12.,  8., 13.,  5., 12., 15., 10.,  9., 10.,\n",
       "        11.,  6.,  8., 16., 10., 11.,  8., 10.,  6., 11., 11.,  9.,  8.,\n",
       "        12.,  8.,  7., 10., 12.,  8., 10.,  8.,  4., 10.,  9., 17.,  9.,\n",
       "         9.,  8.,  6.,  3.,  5., 12., 10.,  9., 12.,  8.,  6., 16.,  8.,\n",
       "         8., 14.,  6., 12.,  7., 11.,  8., 15.,  5.,  9.,  8., 12., 12.,\n",
       "         6., 10., 15., 14.,  6., 15.,  7., 10., 19., 13., 10.,  7., 18.,\n",
       "         8.,  8., 10., 15.,  8.,  6.,  4.,  8., 11.,  8., 10.,  8.,  8.,\n",
       "        14.,  7., 11., 11.,  5., 12., 17., 11.,  8., 19.,  7., 12.,  7.,\n",
       "        10., 16., 15.,  9.,  6.,  7.,  5., 17.,  9.,  7.,  2., 12., 12.,\n",
       "        12., 14.,  7., 13.,  9., 14.,  7., 11., 12.,  8., 12.,  6.,  7.,\n",
       "        10., 10.,  8.,  5., 10.,  6.,  7.,  4.,  3.,  9.,  4., 11.,  7.,\n",
       "        11., 12.,  8., 13., 11.,  8.,  8.,  6.,  5.,  4., 12., 12.,  8.,\n",
       "        11., 10.,  8.,  9., 14., 10., 11.,  7., 10., 10.,  9.,  5.,  9.,\n",
       "        11., 11.,  6., 11.,  9.,  5.,  4., 12., 10.,  9., 18., 16.,  8.,\n",
       "        10., 16., 11., 15., 15., 14., 16.,  7., 10., 10., 11.,  9.,  9.,\n",
       "         5., 12.,  8.,  4.,  9., 13., 12., 13., 12., 14.,  6., 14.]),\n",
       " array([5.15130471e-06, 1.00507581e-03, 2.00500032e-03, ...,\n",
       "        9.97929810e-01, 9.98929734e-01, 9.99929659e-01]),\n",
       " <a list of 1000 Patch objects>)"
      ]
     },
     "execution_count": 3,
     "metadata": {},
     "output_type": "execute_result"
    },
    {
     "data": {
      "image/png": "[encoded data removed]",
      "text/plain": [
       "<Figure size 432x288 with 1 Axes>"
      ]
     },
     "metadata": {
      "needs_background": "light"
     },
     "output_type": "display_data"
    }
   ],
   "source": [
    "plt.hist(np.random.random(10000), bins=1000)"
   ]
  },
  {
   "cell_type": "code",
   "execution_count": 4,
   "metadata": {},
   "outputs": [
    {
     "ename": "NameError",
     "evalue": "name 'plt' is not defined",
     "output_type": "error",
     "traceback": [
      "\u001b[0;31m---------------------------------------------------------------------------\u001b[0m",
      "\u001b[0;31mNameError\u001b[0m                                 Traceback (most recent call last)",
      "\u001b[0;32m<ipython-input-4-38a27f5cb7f7>\u001b[0m in \u001b[0;36m<module>\u001b[0;34m()\u001b[0m\n\u001b[0;32m----> 1\u001b[0;31m \u001b[0mplt\u001b[0m\u001b[0;34m.\u001b[0m\u001b[0mhist\u001b[0m\u001b[0;34m(\u001b[0m\u001b[0mnp\u001b[0m\u001b[0;34m.\u001b[0m\u001b[0mrandom\u001b[0m\u001b[0;34m.\u001b[0m\u001b[0mrandom\u001b[0m\u001b[0;34m(\u001b[0m\u001b[0;36m10\u001b[0m\u001b[0;34m)\u001b[0m\u001b[0;34m,\u001b[0m \u001b[0mbins\u001b[0m\u001b[0;34m=\u001b[0m\u001b[0;36m1000\u001b[0m\u001b[0;34m)\u001b[0m\u001b[0;34m;\u001b[0m\u001b[0;34m\u001b[0m\u001b[0;34m\u001b[0m\u001b[0m\n\u001b[0m",
      "\u001b[0;31mNameError\u001b[0m: name 'plt' is not defined"
     ]
    }
   ],
   "source": []
  },
  {
   "cell_type": "code",
   "execution_count": 6,
   "metadata": {},
   "outputs": [
    {
     "ename": "NameError",
     "evalue": "name 'plt' is not defined",
     "output_type": "error",
     "traceback": [
      "\u001b[0;31m---------------------------------------------------------------------------\u001b[0m",
      "\u001b[0;31mNameError\u001b[0m                                 Traceback (most recent call last)",
      "\u001b[0;32m<ipython-input-6-f43a189176ec>\u001b[0m in \u001b[0;36m<module>\u001b[0;34m()\u001b[0m\n\u001b[0;32m----> 1\u001b[0;31m \u001b[0mplt\u001b[0m\u001b[0;34m.\u001b[0m\u001b[0mhist\u001b[0m\u001b[0;34m(\u001b[0m\u001b[0mnp\u001b[0m\u001b[0;34m.\u001b[0m\u001b[0mrandom\u001b[0m\u001b[0;34m.\u001b[0m\u001b[0mrandom\u001b[0m\u001b[0;34m(\u001b[0m\u001b[0;36m1000\u001b[0m\u001b[0;34m)\u001b[0m\u001b[0;34m,\u001b[0m \u001b[0mbins\u001b[0m\u001b[0;34m=\u001b[0m\u001b[0;36m1000\u001b[0m\u001b[0;34m)\u001b[0m\u001b[0;34m;\u001b[0m\u001b[0;34m\u001b[0m\u001b[0;34m\u001b[0m\u001b[0m\n\u001b[0m",
      "\u001b[0;31mNameError\u001b[0m: name 'plt' is not defined"
     ]
    }
   ],
   "source": []
  },
  {
   "cell_type": "code",
   "execution_count": null,
   "metadata": {},
   "outputs": [],
   "source": []
  }
 ],
 "metadata": {
  "kernelspec": {
   "display_name": "Python 3",
   "language": "python",
   "name": "python3"
  },
  "language_info": {
   "codemirror_mode": {
    "name": "ipython",
    "version": 3
   },
   "file_extension": ".py",
   "mimetype": "text/x-python",
   "name": "python",
   "nbconvert_exporter": "python",
   "pygments_lexer": "ipython3",
   "version": "3.6.7"
  }
 },
 "nbformat": 4,
 "nbformat_minor": 1
}
